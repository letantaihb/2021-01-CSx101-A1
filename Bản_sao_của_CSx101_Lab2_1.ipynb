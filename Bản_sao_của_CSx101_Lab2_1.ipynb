{
  "nbformat": 4,
  "nbformat_minor": 0,
  "metadata": {
    "colab": {
      "name": "Bản sao của CSx101.Lab2-1.ipynb",
      "provenance": [],
      "include_colab_link": true
    },
    "kernelspec": {
      "name": "python3",
      "display_name": "Python 3"
    }
  },
  "cells": [
    {
      "cell_type": "markdown",
      "metadata": {
        "id": "view-in-github",
        "colab_type": "text"
      },
      "source": [
        "<a href=\"https://colab.research.google.com/github/letantaihb/2021-01-CSx101-A1/blob/main/B%E1%BA%A3n_sao_c%E1%BB%A7a_CSx101_Lab2_1.ipynb\" target=\"_parent\"><img src=\"https://colab.research.google.com/assets/colab-badge.svg\" alt=\"Open In Colab\"/></a>"
      ]
    },
    {
      "cell_type": "markdown",
      "metadata": {
        "id": "qYjoagGcuYmq"
      },
      "source": [
        "# CSx101 - TƯ DUY LẬP TRÌNH VỚI PYTHON\n",
        "\n",
        "Lớp 2021-01-CSx101-A1"
      ]
    },
    {
      "cell_type": "markdown",
      "metadata": {
        "id": "9CUHdHZe1Q2F"
      },
      "source": [
        "## Số lớn nhất - nhỏ nhất của dãy số\n",
        "\n",
        "Viết hàm trả về số lớn nhất, và số nhỏ nhất của một dãy số"
      ]
    },
    {
      "cell_type": "code",
      "metadata": {
        "id": "Rk-3yHVazWf6",
        "colab": {
          "base_uri": "https://localhost:8080/"
        },
        "outputId": "376b4840-872a-4878-fb07-75cb8e8669d0"
      },
      "source": [
        "def findMinMax(arr):\n",
        "  mi=min(arr)\n",
        "  ma=max(arr)\n",
        "  return mi, ma\n",
        "\n",
        "arr = [2, 3, 4, 6]\n",
        "\n",
        "min, max = findMinMax(arr)\n",
        "print(min)\n",
        "print(max)\n",
        "\n",
        "# Kết quả "
      ],
      "execution_count": 1,
      "outputs": [
        {
          "output_type": "stream",
          "text": [
            "2\n",
            "6\n"
          ],
          "name": "stdout"
        }
      ]
    },
    {
      "cell_type": "markdown",
      "metadata": {
        "id": "nmHh7xWnhhp_"
      },
      "source": [
        "## Hoán đổi vị trí phần tử đầu và phần cuối của một dãy số\n",
        "\n",
        "Viết hoán đổi phần tử đầu và phần tử cuối của một dãy số\n",
        "\n",
        "Ví dụ:\n",
        "* Input: 1 2 3 4 5\n",
        "* Output: 5 2 3 4 1"
      ]
    },
    {
      "cell_type": "code",
      "metadata": {
        "id": "QfjAATq7zZLY",
        "colab": {
          "base_uri": "https://localhost:8080/"
        },
        "outputId": "be45704a-63a1-42af-f53e-01af1e5fc512"
      },
      "source": [
        "def swapList(arr):\n",
        "  tmp=arr[0]\n",
        "  arr[0]=arr[len(arr)-1]\n",
        "  arr[len(arr)-1]=tmp\n",
        "  return arr\n",
        "\n",
        "arr=list(map(int,input().split()))\n",
        "\n",
        "for i in swapList(arr):\n",
        "  print(i,end=\" \")\n",
        "\n"
      ],
      "execution_count": 9,
      "outputs": [
        {
          "output_type": "stream",
          "text": [
            "1 2 3 4 5 6 7\n",
            "7 2 3 4 5 6 1 "
          ],
          "name": "stdout"
        }
      ]
    },
    {
      "cell_type": "markdown",
      "metadata": {
        "id": "leCn2xFwubkR"
      },
      "source": [
        "## Kiểm tra một phần tử có trong dãy số \n",
        "\n",
        "Viết hàm kiểm tra một phần tử có trong dãy số cho trước hay không\n",
        "\n",
        "Ví dụ:\n",
        "* Input: dãy số 1, 2, 3, 4, 5 và phần tử cần kiểm tra là 9\n",
        "* Output: False"
      ]
    },
    {
      "cell_type": "code",
      "metadata": {
        "id": "N2uyMnza1Bkc",
        "colab": {
          "base_uri": "https://localhost:8080/"
        },
        "outputId": "9e6f88ab-d627-4aac-da34-cf7880e16e6c"
      },
      "source": [
        "def checkNumberExist(x, arr):\n",
        "  if arr.count(x)>0: return True\n",
        "  return False\n",
        "\n",
        "arr=list(map(int,input().split()))\n",
        "x=int(input())\n",
        "\n",
        "checkNumberExist(x, arr)\n"
      ],
      "execution_count": 12,
      "outputs": [
        {
          "output_type": "stream",
          "text": [
            "1 2 3 4 5\n",
            "9\n"
          ],
          "name": "stdout"
        },
        {
          "output_type": "execute_result",
          "data": {
            "text/plain": [
              "False"
            ]
          },
          "metadata": {},
          "execution_count": 12
        }
      ]
    },
    {
      "cell_type": "markdown",
      "metadata": {
        "id": "mbBv-k2SkFVK"
      },
      "source": [
        "## Đảo ngược dãy số\n",
        "\n",
        "Viết hàm đảo ngược một dãy số\n",
        "\n",
        "Ví dụ: \n",
        "* Input: 1, 2, 3, 4, 5\n",
        "* Output: 5, 4, 3, 2, 1"
      ]
    },
    {
      "cell_type": "code",
      "metadata": {
        "id": "oz59rx9g1Fx6",
        "colab": {
          "base_uri": "https://localhost:8080/"
        },
        "outputId": "97382ff6-7084-4f44-f558-2e24b300f753"
      },
      "source": [
        "def reverseList(arr):\n",
        "  for i in range(len(arr)-1,-1,-1):\n",
        "    print(arr[i],end=\" \")\n",
        "\n",
        "arr=list(map(int,input().split()))\n",
        "\n",
        "reverseList(arr)\n"
      ],
      "execution_count": 13,
      "outputs": [
        {
          "output_type": "stream",
          "text": [
            "1 2 3 4 5 6 7\n",
            "7 6 5 4 3 2 1 "
          ],
          "name": "stdout"
        }
      ]
    },
    {
      "cell_type": "markdown",
      "metadata": {
        "id": "CMIVvurg2OiU"
      },
      "source": [
        "## Số nguyên tố của dãy số\n",
        "\n",
        "Viết hàm trả về các số nguyên tố của một dãy số\n",
        "\n",
        "Ví dụ:\n",
        "* Input: 3, 7, 11, 12, 15\n",
        "* Output: 3, 7, 11"
      ]
    },
    {
      "cell_type": "code",
      "metadata": {
        "id": "-3ZMFj3r2TgX",
        "colab": {
          "base_uri": "https://localhost:8080/"
        },
        "outputId": "aff0bc51-31f1-429f-8bf3-8d9815ceb1a9"
      },
      "source": [
        "def findPrimeNumbers(arr):\n",
        "  for i in range(0,len(arr)-1):\n",
        "    k=int(arr[i]**(1/2))\n",
        "    if arr[i]>1:\n",
        "      dem=2\n",
        "      for j in range(2,k+1):\n",
        "        if (arr[i]%j==0): dem=dem+1\n",
        "      if (dem==2): print(arr[i],end=\" \")\n",
        "arr=list(map(int,input().split()))\n",
        "\n",
        "findPrimeNumbers(arr)\n",
        "\n"
      ],
      "execution_count": 17,
      "outputs": [
        {
          "output_type": "stream",
          "text": [
            "3 7 11 12 15\n",
            "3 7 11 "
          ],
          "name": "stdout"
        }
      ]
    },
    {
      "cell_type": "markdown",
      "metadata": {
        "id": "cCyfKs0q4h-X"
      },
      "source": [
        "## Đếm số lần xuất hiện của một phần tử trong dãy số\n",
        "\n",
        "Viết hàm đếm số lần xuất hiện của một phần tử trong dãy số\n",
        "\n",
        "Ví dụ:\n",
        "* Input: 1, 2, 4, 2, 6, 2, 5, 2 và 2\n",
        "* Output: 4 (số 2 xuất hiện 4 lần trong dãy số trên)\n"
      ]
    },
    {
      "cell_type": "code",
      "metadata": {
        "id": "1pfCY9w04nCN",
        "colab": {
          "base_uri": "https://localhost:8080/"
        },
        "outputId": "b2a4f327-23e3-444c-b28e-f89f5108db0b"
      },
      "source": [
        "def countOccurences(x, arr):\n",
        "  return (arr.count(x))\n",
        "arr=list(map(int,input().split()))\n",
        "x=int(input())\n",
        "countOccurences(x, arr)\n"
      ],
      "execution_count": 19,
      "outputs": [
        {
          "output_type": "stream",
          "text": [
            "1 2 4 2 6 2 5 2\n",
            "2\n"
          ],
          "name": "stdout"
        },
        {
          "output_type": "execute_result",
          "data": {
            "text/plain": [
              "4"
            ]
          },
          "metadata": {},
          "execution_count": 19
        }
      ]
    },
    {
      "cell_type": "markdown",
      "metadata": {
        "id": "IQX-kblX6FFL"
      },
      "source": [
        "## Loại bỏ các phần tử trùng\n",
        "\n",
        "Viết hàm loại bỏ các phần tử trùng của một dãy cho trước. Dãy trả về bao gồm các phần tử chỉ xuất hiện một lần\n",
        "\n",
        "* Input: 10, 20, 30, 20, 20, 30, 40, 50, -20, 60, 60, -20, -20\n",
        "* Output: 20, 30, -20, 60\n"
      ]
    },
    {
      "cell_type": "code",
      "metadata": {
        "id": "9-pRgu5w6P3w",
        "colab": {
          "base_uri": "https://localhost:8080/"
        },
        "outputId": "3a2933f6-3caf-44c7-9f98-abb699862c87"
      },
      "source": [
        "def removeDuplicates(n):\n",
        "  b=[]\n",
        "  for i in range(0,n):\n",
        "    if (b.count(a[i])==0):\n",
        "      b.append(a[i])\n",
        "  return b\n",
        "\n",
        "a=list(map(int,input().split()))\n",
        "n=len(a)\n",
        "\n",
        "for i in removeDuplicates(n):\n",
        "  print(i,end=\" \")\n"
      ],
      "execution_count": 21,
      "outputs": [
        {
          "output_type": "stream",
          "text": [
            "10 20 30 20 20 30 40 50 -20 60 60 -20 -20\n",
            "10 20 30 40 50 -20 60 "
          ],
          "name": "stdout"
        }
      ]
    },
    {
      "cell_type": "markdown",
      "metadata": {
        "id": "5A5TZTYJ2Kae"
      },
      "source": [
        "## Tìm N số lớn nhất trong dãy\n",
        "\n",
        "Viết hàm trả về N số lớn nhất trong dãy cho trước\n",
        "\n",
        "* Input: 4, 5, 1, 2, 9 và N=2\n",
        "* Output: 9, 5"
      ]
    },
    {
      "cell_type": "code",
      "metadata": {
        "id": "K2ydHtRR3ebu",
        "colab": {
          "base_uri": "https://localhost:8080/"
        },
        "outputId": "8054d298-90a2-4398-a2eb-7a6b080957f5"
      },
      "source": [
        "def findNLargestElements(N, arr):\n",
        "  b=[]\n",
        "  k=len(arr)\n",
        "  for i in range(k-1,k-N-1,-1):\n",
        "    b.append(arr[i])\n",
        "  return b\n",
        "\n",
        "arr=list(map(int,input().split()))\n",
        "N=int(input())\n",
        "arr.sort()\n",
        "c=findNLargestElements(N, arr)\n",
        "\n",
        "for i in range(0,len(c)):\n",
        "  print(c[i],end=\" \")\n"
      ],
      "execution_count": 32,
      "outputs": [
        {
          "output_type": "stream",
          "text": [
            "4 5 1 2 9\n",
            "3\n",
            "9 5 4 "
          ],
          "name": "stdout"
        }
      ]
    },
    {
      "cell_type": "markdown",
      "metadata": {
        "id": "xXSKpzjJ2Wt4"
      },
      "source": [
        "## Tính tổng tích luỹ\n",
        "\n",
        "Viết hàm tính tổng tích luỹ của một dãy. \n",
        "\n",
        "Phần tử thứ $i$ của dãy đầu ra bằng tổng các phần tử $i, i-1, i-2, ...$ của dãy đầu vào\n",
        "\n",
        "* Input: 10, 20, 30, 40, 50\n",
        "* Output: 10, 30, 60, 100, 150"
      ]
    },
    {
      "cell_type": "code",
      "metadata": {
        "id": "RfQ2N2Ty3oLy",
        "colab": {
          "base_uri": "https://localhost:8080/"
        },
        "outputId": "5bd69dd0-e5c9-45ec-8ca3-012fa0e26cf6"
      },
      "source": [
        "def calcCumulativeSum(N, arr):\n",
        "  b=[0]*N\n",
        "  b[0]=arr[0]\n",
        "  for i in range(1,N):\n",
        "    b[i]=b[i-1]+arr[i]\n",
        "  return b\n",
        "\n",
        "arr=list(map(int,input().split()))\n",
        "N=len(arr)\n",
        "\n",
        "c=calcCumulativeSum(N, arr)\n",
        "\n",
        "for i in c:\n",
        "  print(i,end=\" \")\n"
      ],
      "execution_count": 36,
      "outputs": [
        {
          "output_type": "stream",
          "text": [
            "10 20 30 40 50\n",
            "10 30 60 100 150 "
          ],
          "name": "stdout"
        }
      ]
    },
    {
      "cell_type": "markdown",
      "metadata": {
        "id": "a72UHNxW3OmA"
      },
      "source": [
        "## Xoá một số phần tử của dãy\n",
        "\n",
        "Viết hàm xoá một số phần tử của dãy\n",
        "\n",
        "* Input: 12, 15, 3, 10 và 12 và 3 là các phần tử cần xoá\n",
        "* Output: 15, 10"
      ]
    },
    {
      "cell_type": "code",
      "metadata": {
        "id": "PkwKGvI74AHU",
        "colab": {
          "base_uri": "https://localhost:8080/"
        },
        "outputId": "bdc1d5f9-2ae2-42ef-d226-d9f33c8ed4af"
      },
      "source": [
        "def removeElemetns(arrInput, arrRemove):\n",
        "  k=len(arrInput)\n",
        "  b=[]\n",
        "  for i in range(0,k):\n",
        "    if (arrRemove.count(arrInput[i])==0):\n",
        "      b.append(arrInput[i])\n",
        "  return b\n",
        "\n",
        "arrInput=list(map(int,input().split()))\n",
        "arrRemove=list(map(int,input().split()))\n",
        "\n",
        "c=removeElemetns(arrInput, arrRemove)\n",
        "\n",
        "for i in c:\n",
        "  print(i,end=\" \")\n"
      ],
      "execution_count": 37,
      "outputs": [
        {
          "output_type": "stream",
          "text": [
            "12 15 3 10\n",
            "12 3\n",
            "15 10 "
          ],
          "name": "stdout"
        }
      ]
    }
  ]
}