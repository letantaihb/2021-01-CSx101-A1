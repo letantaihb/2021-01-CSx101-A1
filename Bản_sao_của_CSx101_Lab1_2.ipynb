{
  "nbformat": 4,
  "nbformat_minor": 0,
  "metadata": {
    "colab": {
      "name": "Bản sao của CSx101.Lab1-2.ipynb",
      "provenance": [],
      "include_colab_link": true
    },
    "kernelspec": {
      "name": "python3",
      "display_name": "Python 3"
    }
  },
  "cells": [
    {
      "cell_type": "markdown",
      "metadata": {
        "id": "view-in-github",
        "colab_type": "text"
      },
      "source": [
        "<a href=\"https://colab.research.google.com/github/letantaihb/2021-01-CSx101-A1/blob/main/B%E1%BA%A3n_sao_c%E1%BB%A7a_CSx101_Lab1_2.ipynb\" target=\"_parent\"><img src=\"https://colab.research.google.com/assets/colab-badge.svg\" alt=\"Open In Colab\"/></a>"
      ]
    },
    {
      "cell_type": "markdown",
      "metadata": {
        "id": "qYjoagGcuYmq"
      },
      "source": [
        "# CSx101 - TƯ DUY LẬP TRÌNH VỚI PYTHON\n",
        "\n",
        "Lớp 2021-01-CSx101-A1"
      ]
    },
    {
      "cell_type": "markdown",
      "metadata": {
        "id": "9CUHdHZe1Q2F"
      },
      "source": [
        "## Số lớn nhất\n",
        "\n",
        "Viết hàm tính số lớn nhất của 2 hai số"
      ]
    },
    {
      "cell_type": "code",
      "metadata": {
        "id": "Rk-3yHVazWf6",
        "colab": {
          "base_uri": "https://localhost:8080/"
        },
        "outputId": "27b9e771-bdb1-4586-9f4d-d1009fde5d04"
      },
      "source": [
        "def calMax(a, b):\n",
        "  if (a>b): return a\n",
        "  return b\n",
        "  \n",
        "a = 5\n",
        "b = 5.01\n",
        "\n",
        "max2 = calMax(a, b)\n",
        "print(max2)\n",
        "\n",
        "# Kết quả 5.01"
      ],
      "execution_count": 1,
      "outputs": [
        {
          "output_type": "stream",
          "text": [
            "5.01\n"
          ],
          "name": "stdout"
        }
      ]
    },
    {
      "cell_type": "markdown",
      "metadata": {
        "id": "nmHh7xWnhhp_"
      },
      "source": [
        "## Giai thừa\n",
        "\n",
        "Viết hàm tính giai thừa của $n$\n",
        "\n",
        "$n! = n*(n-1)*(n-2)*...*1$"
      ]
    },
    {
      "cell_type": "code",
      "metadata": {
        "id": "QfjAATq7zZLY",
        "colab": {
          "base_uri": "https://localhost:8080/"
        },
        "outputId": "38e570e0-728c-46cf-f3a9-ff05ff95d40a"
      },
      "source": [
        "def calFactorial(n):\n",
        "  if (n==1): return 1\n",
        "  else: return n*calFactorial(n-1)\n",
        "\n",
        "n = 5\n",
        "result = calFactorial(n)\n",
        "print(result)\n",
        "\n",
        "# Kết quả 120"
      ],
      "execution_count": 4,
      "outputs": [
        {
          "output_type": "stream",
          "text": [
            "120\n"
          ],
          "name": "stdout"
        }
      ]
    },
    {
      "cell_type": "markdown",
      "metadata": {
        "id": "leCn2xFwubkR"
      },
      "source": [
        "## Số Amstrong\n",
        "Viết hàm trả về số $x$ có phải là số Amstrong hay không. \n",
        "\n",
        "Số nguyên dương có $n$ chữ số là số  Armstrong bậc $n$ nếu:\n",
        "\n",
        "$abcd... = pow(a,n) + pow(b,n) + pow(c,n) + pow(d,n) + .... $\n",
        "\n",
        "Ví dụ: 153 là số Amstrong vì $n=3$ và \n",
        "\n",
        "$1*1*1 + 5*5*5 + 3*3*3 = 153$"
      ]
    },
    {
      "cell_type": "code",
      "metadata": {
        "id": "N2uyMnza1Bkc",
        "colab": {
          "base_uri": "https://localhost:8080/"
        },
        "outputId": "c34bf057-6aba-4863-e931-a81429a9945f"
      },
      "source": [
        "def checkAmstrongNumber(x):\n",
        "  k=0\n",
        "  while (x>0):\n",
        "    k=k+1\n",
        "    x=x//10\n",
        "  sum=0\n",
        "  y=x\n",
        "  for i in range (1,k+1):\n",
        "    du=y%10\n",
        "    sum=sum+du**k\n",
        "    y=y//10\n",
        "  if (sum==x): return True\n",
        "  else: return False\n",
        "\n",
        "x = 153\n",
        "result = checkAmstrongNumber(x)\n",
        "print(result)\n",
        "\n",
        "# Kết quả True"
      ],
      "execution_count": 7,
      "outputs": [
        {
          "output_type": "stream",
          "text": [
            "True\n"
          ],
          "name": "stdout"
        }
      ]
    },
    {
      "cell_type": "markdown",
      "metadata": {
        "id": "mbBv-k2SkFVK"
      },
      "source": [
        "## Số nguyên tố\n",
        "\n",
        "Viết hàm kiểm tra một số nguyên dương $n$ có phải là số nguyên tố hay không.\n",
        "\n",
        "Số nguyên tố là số lớn hơn 1 và không có ước số nào ngoài 1 và chính nó. Ví dụ: {2, 3, 5, 7, 11, ….}."
      ]
    },
    {
      "cell_type": "code",
      "metadata": {
        "id": "oz59rx9g1Fx6",
        "colab": {
          "base_uri": "https://localhost:8080/"
        },
        "outputId": "0c66b73a-8c81-4fa5-de2a-898f64f35a89"
      },
      "source": [
        "def checkPrimeNumber(n):\n",
        "  k=int(n**(1/2))\n",
        "  for i in range(2,k+1): \n",
        "    if (n%i==0): return False\n",
        "  return n>1\n",
        "\n",
        "n = 7\n",
        "result = checkPrimeNumber(n)\n",
        "print(result) \n",
        "\n",
        "# Kết quả True"
      ],
      "execution_count": 10,
      "outputs": [
        {
          "output_type": "stream",
          "text": [
            "True\n"
          ],
          "name": "stdout"
        }
      ]
    },
    {
      "cell_type": "markdown",
      "metadata": {
        "id": "CMIVvurg2OiU"
      },
      "source": [
        "## Số Fibonaci\n",
        "\n",
        "Viết hàm tính số Fibonaci $F_n$\n",
        "\n",
        "Công thức tính số Fibonaci\n",
        "$F_n = F_{n-1} + F_{n-2}$\n",
        "\n",
        "$F_0 = 0$\n",
        "\n",
        "$F_1 = 1$"
      ]
    },
    {
      "cell_type": "code",
      "metadata": {
        "id": "-3ZMFj3r2TgX",
        "colab": {
          "base_uri": "https://localhost:8080/"
        },
        "outputId": "5b6f0b73-2a95-463b-aa3e-225a1bf75fe5"
      },
      "source": [
        "def calFibonaci(n):\n",
        "  if (n==0): return 0\n",
        "  if (n==1): return 1\n",
        "  return calFibonaci(n-1)+calFibonaci(n-2)\n",
        "\n",
        "\n",
        "n = 2\n",
        "result = calFibonaci(n)\n",
        "print(result) \n",
        "\n",
        "# Kết quả 1"
      ],
      "execution_count": 12,
      "outputs": [
        {
          "output_type": "stream",
          "text": [
            "1\n"
          ],
          "name": "stdout"
        }
      ]
    },
    {
      "cell_type": "markdown",
      "metadata": {
        "id": "cCyfKs0q4h-X"
      },
      "source": [
        "## Kiểm tra một số có phải là số Fibonaci hay không\n",
        "\n",
        "Viết hàm kiểm tra một số $n$ có phải là số Fibonaci hay không.\n",
        "\n",
        "Các số sau là số Fibonaci: 0, 1, 1, 2, 3, 5, 8, 13, 21, 34, 55, 89, 144,\n",
        "\n",
        "Gợi ý: A number is Fibonacci if and only if one or both of $(5*n2 + 4)$ or $(5*n2 – 4)$ is a perfect square"
      ]
    },
    {
      "cell_type": "code",
      "metadata": {
        "id": "1pfCY9w04nCN",
        "colab": {
          "base_uri": "https://localhost:8080/"
        },
        "outputId": "4a681a8c-8cc9-4708-9419-48e3e9bf2bbd"
      },
      "source": [
        "def checkFibonaciNumber(n):\n",
        "  x=(5*(n**2)+4)\n",
        "  y=(5*(n**2)-4)\n",
        "  x1=int(x**(1/2))\n",
        "  y1=int(y**(1/2))\n",
        "  if ((x1**2==x) or (y1**2==y)): return True\n",
        "  else: return False\n",
        "\n",
        "n = 21\n",
        "result = checkFibonaciNumber(n)\n",
        "print(result) \n",
        "\n",
        "# Kết quả True"
      ],
      "execution_count": 14,
      "outputs": [
        {
          "output_type": "stream",
          "text": [
            "True\n"
          ],
          "name": "stdout"
        }
      ]
    },
    {
      "cell_type": "markdown",
      "metadata": {
        "id": "IQX-kblX6FFL"
      },
      "source": [
        "## Tổng $1^2 + 2^2 + 3^2 + …+ n^2$\n",
        "\n",
        "Viết hàm tính tổng trên "
      ]
    },
    {
      "cell_type": "code",
      "metadata": {
        "id": "9-pRgu5w6P3w",
        "colab": {
          "base_uri": "https://localhost:8080/"
        },
        "outputId": "4ca674eb-cd62-4803-fd43-2e82b052b450"
      },
      "source": [
        "def calSquareSum(n):\n",
        "  s=0\n",
        "  for i in range(1,n+1):\n",
        "    s=s+i**2\n",
        "  return s\n",
        "\n",
        "n = 2\n",
        "result = calSquareSum(n)\n",
        "print(result) \n",
        "\n",
        "# Kết quả 5"
      ],
      "execution_count": 15,
      "outputs": [
        {
          "output_type": "stream",
          "text": [
            "5\n"
          ],
          "name": "stdout"
        }
      ]
    },
    {
      "cell_type": "markdown",
      "metadata": {
        "id": "B9JahOfd6Zj4"
      },
      "source": [
        "**Lệnh điều khiển (rẽ nhánh)**"
      ]
    },
    {
      "cell_type": "code",
      "metadata": {
        "id": "bD8JdWgE6oU4",
        "colab": {
          "base_uri": "https://localhost:8080/"
        },
        "outputId": "1c4750db-bce0-4f33-a99d-b3aca3946f50"
      },
      "source": [
        "x= int(input('\bNhập một số nguyên: '))\n",
        "if x%2 == 0:\n",
        "  print()\n",
        "  print('\bSố chẵn')\n",
        "else:\n",
        "  print()\n",
        "  print('Số lẻ')\n",
        "print('Kết thúc minh hoạ lệnh rẽ nhánh')"
      ],
      "execution_count": 16,
      "outputs": [
        {
          "output_type": "stream",
          "text": [
            "\bNhập một số nguyên: 4\n",
            "\n",
            "\bSố chẵn\n",
            "Kết thúc minh hoạ lệnh rẽ nhánh\n"
          ],
          "name": "stdout"
        }
      ]
    }
  ]
}